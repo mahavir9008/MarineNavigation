{
  "nbformat": 4,
  "nbformat_minor": 0,
  "metadata": {
    "colab": {
      "name": "beginner.ipynb",
      "provenance": [],
      "private_outputs": true,
      "collapsed_sections": [
        "rX8mhOLljYeM"
      ]
    },
    "kernelspec": {
      "display_name": "Python 3",
      "name": "python3"
    }
  },
  "cells": [
    {
      "cell_type": "code",
      "metadata": {
        "id": "q38PKJ_FfDIZ",
        "colab_type": "code",
        "colab": {}
      },
      "source": [
        "from google.colab import drive\n",
        "drive.mount('/content/drive')"
      ],
      "execution_count": 0,
      "outputs": []
    },
    {
      "cell_type": "code",
      "metadata": {
        "id": "4xOMYK7FkEjK",
        "colab_type": "code",
        "colab": {}
      },
      "source": [
        "!pip install PyDrive\n"
      ],
      "execution_count": 0,
      "outputs": []
    },
    {
      "cell_type": "code",
      "metadata": {
        "id": "kurOjA8pkH7O",
        "colab_type": "code",
        "colab": {}
      },
      "source": [
        "from pydrive.auth import GoogleAuth\n",
        "from pydrive.drive import GoogleDrive\n",
        "from google.colab import auth\n",
        "from oauth2client.client import GoogleCredentials\n"
      ],
      "execution_count": 0,
      "outputs": []
    },
    {
      "cell_type": "code",
      "metadata": {
        "id": "l-9HdBD-kUn9",
        "colab_type": "code",
        "colab": {}
      },
      "source": [
        "auth.authenticate_user()\n",
        "gauth = GoogleAuth()\n",
        "gauth.credentials = GoogleCredentials.get_application_default()\n",
        "drive = GoogleDrive(gauth)\n"
      ],
      "execution_count": 0,
      "outputs": []
    },
    {
      "cell_type": "code",
      "metadata": {
        "id": "xgd2vD9sksny",
        "colab_type": "code",
        "colab": {}
      },
      "source": [
        "downloaded = drive.CreateFile({'id':\"1yhOj75WuTZq7CEfeKDT4zOGMGx9QqJ0p\"})   # replace the id with id of file you want to access\n",
        "downloaded.GetContentFile('subset_0_of_S1B_IW_GRDH_1SDV_20200513T043115_20200513T043140_021558_028EE2_5062_TC.tif.zip')   "
      ],
      "execution_count": 0,
      "outputs": []
    },
    {
      "cell_type": "code",
      "metadata": {
        "id": "Ok7Xxi4Ym98G",
        "colab_type": "code",
        "colab": {}
      },
      "source": [
        "!apt install unzip"
      ],
      "execution_count": 0,
      "outputs": []
    },
    {
      "cell_type": "code",
      "metadata": {
        "id": "NzbxYAZgnAlV",
        "colab_type": "code",
        "colab": {}
      },
      "source": [
        "!unzip  subset_0_of_S1B_IW_GRDH_1SDV_20200513T043115_20200513T043140_021558_028EE2_5062_TC.tif.zip -d ."
      ],
      "execution_count": 0,
      "outputs": []
    },
    {
      "cell_type": "code",
      "metadata": {
        "id": "inGE7vuRodDR",
        "colab_type": "code",
        "colab": {}
      },
      "source": [
        "!apt install rasterio"
      ],
      "execution_count": 0,
      "outputs": []
    },
    {
      "cell_type": "code",
      "metadata": {
        "id": "lmml8hMqfZCO",
        "colab_type": "code",
        "colab": {}
      },
      "source": [
        "import rasterio\n",
        "image_file = \"subset_0_of_S1B_IW_GRDH_1SDV_20200513T043115_20200513T043140_021558_028EE2_5062_TC.tif\"\n",
        "satdat = rasterio.open(image_file)\n",
        "\n"
      ],
      "execution_count": 0,
      "outputs": []
    },
    {
      "cell_type": "code",
      "metadata": {
        "id": "eXnO1EG6zP6z",
        "colab_type": "code",
        "colab": {}
      },
      "source": [
        "from osgeo import gdal\n",
        "import numpy as np\n",
        "from skimage import exposure\n",
        "from skimage.segmentation import quickshift\n",
        "from skimage.segmentation import slic\n",
        "\n",
        "\n",
        "image_file = \"subset_0_of_S1B_IW_GRDH_1SDV_20200513T043115_20200513T043140_021558_028EE2_5062_TC.tif\"\n",
        "ds = gdal.Open(image_file)\n",
        "band_size = ds.RasterCount\n",
        "print(\"total number of band\",ds.RasterCount)\n",
        "print(\" ds share x size\",ds.RasterYSize)\n",
        "print(\" ds share y size\",ds.RasterXSize)\n",
        "band_data= []\n",
        "for i in range(1,band_size+1):\n",
        "  band= ds.GetRasterBand(i).ReadAsArray()\n",
        "  band_data.append(band.astype('float64'))\n",
        "\n",
        "band_data = np.dstack(band_data)\n",
        "\n",
        "\n",
        "\n",
        "# scale image values from 0.0 - 1.0\n",
        "img = exposure.rescale_intensity(band_data)\n",
        " \n",
        "# do segmentation multiple options with quickshift and slic\n",
        "seg_start = time.time()\n",
        "# segments = quickshift(img, convert2lab=False)\n",
        "# segments = quickshift(img, ratio=0.8, convert2lab=False)\n",
        "# segments = quickshift(img, ratio=0.99, max_dist=5, convert2lab=False)\n",
        "# segments = slic(img, n_segments=100000, compactness=0.1)\n",
        "# segments = slic(img, n_segments=500000, compactness=0.01)\n",
        "segments = slic(img, n_segments=500000, compactness=0.1)\n",
        "print('segments complete', time.time() - seg_start)\n",
        "\n",
        "# save segments to raster\n",
        "segments_fn = '/content/segment.tif'\n",
        "segments_ds = driverTiff.Create(segments_fn, ds.RasterXSize, ds.RasterYSize,\n",
        "                                1, gdal.GDT_Float32)\n",
        "segments_ds.SetGeoTransform(ds.GetGeoTransform())\n",
        "segments_ds.SetProjection(ds.GetProjectionRef())\n",
        "segments_ds.GetRasterBand(1).WriteArray(segments)\n",
        "segments_ds = None\n",
        "\n",
        "\n",
        "\n"
      ],
      "execution_count": 0,
      "outputs": []
    }
  ]
}